{
 "cells": [
  {
   "cell_type": "code",
   "execution_count": 3,
   "metadata": {},
   "outputs": [
    {
     "name": "stdout",
     "output_type": "stream",
     "text": [
      "Acertou! Precisou de 3 tentativas.\n"
     ]
    }
   ],
   "source": [
    "# Utilizador adivinha o número que o programa pensa\n",
    "\n",
    "import random\n",
    "\n",
    "tentativas = 1\n",
    "num = random.randrange(0, 101)\n",
    "exp = float(input(\"Introduza um número: \"))\n",
    "\n",
    "while num != exp :\n",
    "    if num > exp:\n",
    "        exp = float(input(\"O número que pensei é maior. Tente outra vez: \"))\n",
    "    else:\n",
    "        exp = float(input(\"O número que pensei é menor. Tente outra vez: \"))\n",
    "    tentativas = tentativas + 1\n",
    "\n",
    "\n",
    "print(f\"Acertou! Precisou de {tentativas} tentativas.\")"
   ]
  },
  {
   "cell_type": "code",
   "execution_count": 6,
   "metadata": {},
   "outputs": [
    {
     "name": "stdout",
     "output_type": "stream",
     "text": [
      "Consoante o número que eu disser e o que você pensou, insira Acertou!, Maior, Menor.\n",
      "Acertei! Precisei de 10 tentativas.\n"
     ]
    }
   ],
   "source": [
    "# Programa adivinha o número que o utilizador pensou\n",
    "\n",
    "import random\n",
    "\n",
    "tentativas = 1\n",
    "min = 1\n",
    "max = 101\n",
    "\n",
    "num = random.randrange(min, max)\n",
    "print(\"Consoante o número que eu disser e o que você pensou, insira: Acertou, Maior, Menor.\")\n",
    "exp = input(f\"O número em que pensaste foi {num}!\")\n",
    "\n",
    "while exp != \"Acertou\":\n",
    "    if exp == \"Maior\":\n",
    "        min = num + 1\n",
    "        num = random.randrange(min, max)\n",
    "        exp = input(f\"O número em que pensaste foi {num}!\")\n",
    "    else:\n",
    "        max = num\n",
    "        num = random.randrange(min, max)\n",
    "        exp = input(f\"O número em que pensaste foi {num}!\")\n",
    "    tentativas = tentativas + 1\n",
    "\n",
    "\n",
    "print(f\"Acertei! Precisei de {tentativas} tentativas.\")"
   ]
  }
 ],
 "metadata": {
  "kernelspec": {
   "display_name": "Python 3",
   "language": "python",
   "name": "python3"
  },
  "language_info": {
   "codemirror_mode": {
    "name": "ipython",
    "version": 3
   },
   "file_extension": ".py",
   "mimetype": "text/x-python",
   "name": "python",
   "nbconvert_exporter": "python",
   "pygments_lexer": "ipython3",
   "version": "3.12.6"
  }
 },
 "nbformat": 4,
 "nbformat_minor": 2
}
