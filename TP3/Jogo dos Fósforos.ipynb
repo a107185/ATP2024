{
 "cells": [
  {
   "cell_type": "code",
   "execution_count": 11,
   "metadata": {},
   "outputs": [
    {
     "name": "stdout",
     "output_type": "stream",
     "text": [
      "Eu retiro 4 fósforos, ficando com 17 fósforos no total.\n",
      "Retiraste 4 fósforos, ficando com 13 fósforos no total.\n",
      "Eu retiro 2 fósforos, ficando com 11 fósforos no total.\n",
      "Retiraste 4 fósforos, ficando com 7 fósforos no total.\n",
      "Eu retiro 1 fósforos, ficando com 6 fósforos no total.\n",
      "Retiraste 1 fósforos, ficando com 5 fósforos no total.\n",
      "Eu retiro 4 fósforos, ficando com 1 fósforos no total.\n",
      "Retiraste 1 fósforos, ficando com 0 fósforos no total.\n",
      "Ganhei!\n"
     ]
    }
   ],
   "source": [
    "#Jogo Fósforos\n",
    "\n",
    "import random\n",
    "ftotal = 21\n",
    "n = int(input(\"Olá! Se quiser começar a jogar em primeiro lugar pressione 1, se quiser que eu comece em primeiro lugar pressione 2: \"))\n",
    "\n",
    "if n == 1:\n",
    "    while ftotal > 0 :\n",
    "        ftjogador = int(input(\"Insira o número de fósforos que pretende retirar (1, 2, 3, 4):\"))\n",
    "        ftotal = ftotal - 5\n",
    "        print(f\"Eu retiro {5 - ftjogador} fósforos, ficando com {ftotal} fósforos no total.\")\n",
    "    print(\"Ganhei!\")\n",
    "\n",
    "else :\n",
    "    ftcomputador = random.randrange(1, 5)\n",
    "    ftotal = ftotal - ftcomputador\n",
    "    print(f\"Eu retiro {ftcomputador} fósforos, ficando com {ftotal} fósforos no total.\")\n",
    "    ftjogador = int(input(\"Insira o número de fósforos que pretende retirar (1, 2, 3, 4): \"))\n",
    "    ftotal = ftotal - ftjogador\n",
    "    print(f\"Retiraste {ftjogador} fósforos, ficando com {ftotal} fósforos no total.\")\n",
    "    ftirados = ftcomputador + ftjogador\n",
    "\n",
    "    while ftotal > 0 :\n",
    "        if ftirados == 5 :\n",
    "            ftcomputador = random.randrange(1, 5)\n",
    "            ftotal = ftotal - ftcomputador\n",
    "            print(f\"Eu retiro {ftcomputador} fósforos, ficando com {ftotal} fósforos no total.\")\n",
    "            ftjogador = int(input(\"Insira o número de fósforos que pretende retirar (1, 2, 3, 4): \"))\n",
    "            ftotal = ftotal - ftjogador\n",
    "            print(f\"Retiraste {ftjogador} fósforos, ficando com {ftotal} fósforos no total.\")\n",
    "            ftirados = ftcomputador + ftjogador\n",
    "            if ftotal == 1 :\n",
    "                print (\"Retiro 1 fósforo. Ganhaste!\")\n",
    "                ftotal = 0\n",
    "        \n",
    "        elif ftirados < 5 :\n",
    "            ftcomputador = 5 - ftirados\n",
    "            ftotal = ftotal - ftcomputador\n",
    "            print(f\"Eu retiro {ftcomputador} fósforos, ficando com {ftotal} fósforos no total.\")\n",
    "            ftjogador = int(input(\"Insira o número de fósforos que pretende retirar (1, 2, 3, 4): \"))\n",
    "            ftotal = ftotal - ftjogador\n",
    "            print(f\"Retiraste {ftjogador} fósforos, ficando com {ftotal} fósforos no total.\")\n",
    "            ftirados = ftjogador\n",
    "            if ftotal == 0 :\n",
    "                print(\"Ganhei!\")\n",
    "            \n",
    "        else :\n",
    "            ftcomputador = 10 - ftirados\n",
    "            ftotal = ftotal - ftcomputador\n",
    "            print(f\"Eu retiro {ftcomputador} fósforos, ficando com {ftotal} fósforos no total.\")\n",
    "            ftjogador = int(input(\"Insira o número de fósforos que pretende retirar (1, 2, 3, 4): \"))\n",
    "            ftotal = ftotal - ftjogador\n",
    "            print(f\"Retiraste {ftjogador} fósforos, ficando com {ftotal} fósforos no total.\")\n",
    "            ftirados = ftjogador\n",
    "\n",
    "    \n",
    "\n",
    "\n",
    "\n"
   ]
  }
 ],
 "metadata": {
  "kernelspec": {
   "display_name": "Python 3",
   "language": "python",
   "name": "python3"
  },
  "language_info": {
   "codemirror_mode": {
    "name": "ipython",
    "version": 3
   },
   "file_extension": ".py",
   "mimetype": "text/x-python",
   "name": "python",
   "nbconvert_exporter": "python",
   "pygments_lexer": "ipython3",
   "version": "3.12.6"
  }
 },
 "nbformat": 4,
 "nbformat_minor": 2
}
